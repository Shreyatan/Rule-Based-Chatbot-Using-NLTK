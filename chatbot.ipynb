{
  "nbformat": 4,
  "nbformat_minor": 0,
  "metadata": {
    "colab": {
      "provenance": [],
      "gpuType": "T4",
      "authorship_tag": "ABX9TyNNUcfJ8YHvbbTjuWN6aJFv",
      "include_colab_link": true
    },
    "kernelspec": {
      "name": "python3",
      "display_name": "Python 3"
    },
    "language_info": {
      "name": "python"
    },
    "accelerator": "GPU"
  },
  "cells": [
    {
      "cell_type": "markdown",
      "metadata": {
        "id": "view-in-github",
        "colab_type": "text"
      },
      "source": [
        "<a href=\"https://colab.research.google.com/github/Shreyatan/Rule-Based-Chatbot-Using-NLTK/blob/main/chatbot.ipynb\" target=\"_parent\"><img src=\"https://colab.research.google.com/assets/colab-badge.svg\" alt=\"Open In Colab\"/></a>"
      ]
    },
    {
      "cell_type": "code",
      "execution_count": null,
      "metadata": {
        "colab": {
          "base_uri": "https://localhost:8080/"
        },
        "id": "BdV_HwjjYvN_",
        "outputId": "8fd93b65-d4c9-46f7-f197-962772a81980"
      },
      "outputs": [
        {
          "output_type": "stream",
          "name": "stdout",
          "text": [
            "Requirement already satisfied: nltk in /usr/local/lib/python3.10/dist-packages (3.9.1)\n",
            "Requirement already satisfied: click in /usr/local/lib/python3.10/dist-packages (from nltk) (8.1.7)\n",
            "Requirement already satisfied: joblib in /usr/local/lib/python3.10/dist-packages (from nltk) (1.4.2)\n",
            "Requirement already satisfied: regex>=2021.8.3 in /usr/local/lib/python3.10/dist-packages (from nltk) (2024.9.11)\n",
            "Requirement already satisfied: tqdm in /usr/local/lib/python3.10/dist-packages (from nltk) (4.66.6)\n"
          ]
        }
      ],
      "source": [
        "!pip install nltk\n"
      ]
    },
    {
      "cell_type": "code",
      "source": [
        "import nltk\n",
        "from nltk.chat.util import Chat, reflections\n",
        "\n",
        "# Download necessary NLTK data files\n",
        "nltk.download('punkt')\n",
        "\n",
        "# Define pairs of patterns and responses\n",
        "pairs = [\n",
        "    [\n",
        "        r\"(hi|hello|hey|howdy)\",\n",
        "        [\"Hello! How can I assist you today?\", \"Hi there! How can I help?\"]\n",
        "    ],\n",
        "    [\n",
        "        r\"what is your name?\",\n",
        "        [\"You can call me BOTMAN!\", \"I'm Chatbot, your virtual assistant.\"]\n",
        "    ],\n",
        "    [\n",
        "        r\"how are you?\",\n",
        "        [\"I'm just a bot, but I'm here to help!\", \"I’m doing well, thanks for asking! How can I assist you?\"]\n",
        "    ],\n",
        "    [\n",
        "        r\"can you help me with (.*)?\",\n",
        "        [\"Sure, I can help with %1. Could you provide more details?\", \"I’d love to assist you with %1. Tell me more!\"]\n",
        "    ],\n",
        "    [\n",
        "        r\"thank you|thanks\",\n",
        "        [\"You're welcome!\", \"Happy to help!\", \"Anytime!\"]\n",
        "    ],\n",
        "    [\n",
        "        r\"bye|goodbye\",\n",
        "        [\"Goodbye! Have a great day!\", \"See you later! Take care!\"]\n",
        "    ],\n",
        "    [\n",
        "        r\"(.*)\",\n",
        "        [\"I'm sorry, I didn't understand that. Could you rephrase?\", \"Interesting. Can you elaborate?\"]\n",
        "    ]\n",
        "]\n",
        "\n",
        "# Initialize chatbot with pairs and reflections\n",
        "chatbot = Chat(pairs, reflections)\n",
        "\n",
        "# Main loop for the chatbot\n",
        "def chatbot_run():\n",
        "    print(\"Hello! I’m your chatbot.How can I help you??\")\n",
        "    while True:\n",
        "        user_input = input(\"You: \")\n",
        "        if user_input.lower() in ['bye', 'exit', 'quit']:\n",
        "            print(\"Chatbot: Goodbye!!\")\n",
        "            break\n",
        "        response = chatbot.respond(user_input)\n",
        "        print(f\"Chatbot: {response}\")\n",
        "\n",
        "# Run the chatbot\n",
        "if __name__ == \"__main__\":\n",
        "    chatbot_run()\n"
      ],
      "metadata": {
        "colab": {
          "base_uri": "https://localhost:8080/"
        },
        "id": "KCf7t-WbY_0x",
        "outputId": "572bee97-f2b8-438f-e864-5639a16223ce"
      },
      "execution_count": null,
      "outputs": [
        {
          "metadata": {
            "tags": null
          },
          "name": "stderr",
          "output_type": "stream",
          "text": [
            "[nltk_data] Downloading package punkt to /root/nltk_data...\n",
            "[nltk_data]   Package punkt is already up-to-date!\n"
          ]
        },
        {
          "metadata": {
            "tags": null
          },
          "name": "stdout",
          "output_type": "stream",
          "text": [
            "Hello! I’m your chatbot.How can I help you??\n",
            "Chatbot: I'm Chatbot, your virtual assistant.\n",
            "Chatbot: You can call me BOTMAN!\n"
          ]
        }
      ]
    }
  ]
}